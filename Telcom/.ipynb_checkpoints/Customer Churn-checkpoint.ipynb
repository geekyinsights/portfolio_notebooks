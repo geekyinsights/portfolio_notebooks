{
 "cells": [
  {
   "cell_type": "markdown",
   "metadata": {},
   "source": [
    "# Introduction\n",
    "\n",
    "This project uses a random forest to predict customer churn in a telecom data set from Kaggle."
   ]
  },
  {
   "cell_type": "code",
   "execution_count": 1,
   "metadata": {
    "scrolled": true
   },
   "outputs": [],
   "source": [
    "import numpy as np \n",
    "import pandas as pd\n",
    "\n",
    "from fastai.imports import *\n",
    "from fastai.structured import *\n",
    "\n",
    "from pandas_summary import DataFrameSummary\n",
    "from sklearn.ensemble import RandomForestRegressor, RandomForestClassifier\n",
    "from IPython.display import display\n",
    "\n",
    "from sklearn import metrics\n",
    "\n",
    "df = pd.read_csv('data/Train_ServicesOptedFor.csv')\n",
    "df2 = pd.read_csv('data/Train_Demographics.csv')\n",
    "df3 = pd.read_csv('data/Train (3).csv')"
   ]
  },
  {
   "cell_type": "markdown",
   "metadata": {},
   "source": [
    "Preprocess Data for machine learning. Check for null values, merge csvs, convert categories"
   ]
  },
  {
   "cell_type": "code",
   "execution_count": 2,
   "metadata": {
    "collapsed": true
   },
   "outputs": [],
   "source": [
    "\n",
    "customer_data = df.set_index(['CustomerID','TypeOfService']).unstack()\n",
    "customer_data.columns = customer_data.columns.map('_'.join)\n",
    "\n",
    "customer_data = customer_data.reset_index()\n",
    "\n",
    "merge_one = pd.merge(customer_data, df2, left_on='CustomerID', right_on='HouseholdID', how='outer').drop('HouseholdID', axis=1)\n",
    "final = pd.merge(merge_one, df3, on='CustomerID', how='outer')"
   ]
  },
  {
   "cell_type": "code",
   "execution_count": 3,
   "metadata": {},
   "outputs": [
    {
     "data": {
      "text/plain": [
       "Churn                                    0.000000\n",
       "Country                                  0.000000\n",
       "CustomerID                               0.000000\n",
       "Education                                0.001888\n",
       "Gender                                   0.000755\n",
       "HasDependents                            0.000000\n",
       "HasPartner                               0.000000\n",
       "Retired                                  0.000000\n",
       "SeviceDetails_DeviceProtection           0.000000\n",
       "SeviceDetails_HasPhoneService            0.000000\n",
       "SeviceDetails_InternetServiceCategory    0.000000\n",
       "SeviceDetails_MultipleLines              0.000000\n",
       "SeviceDetails_OnlineBackup               0.000000\n",
       "SeviceDetails_OnlineSecurity             0.000000\n",
       "SeviceDetails_StreamingMovies            0.000000\n",
       "SeviceDetails_StreamingTelevision        0.000000\n",
       "SeviceDetails_TechnicalSupport           0.000000\n",
       "State                                    0.000000\n",
       "dtype: float64"
      ]
     },
     "metadata": {},
     "output_type": "display_data"
    }
   ],
   "source": [
    "#Search for NAN values\n",
    "def display_all(df):\n",
    "    with pd.option_context(\"display.max_rows\", 1000, \"display.max_columns\", 1000): \n",
    "        display(df)\n",
    "        \n",
    "display_all(final.isnull().sum().sort_index()/len(final))"
   ]
  },
  {
   "cell_type": "code",
   "execution_count": 4,
   "metadata": {
    "collapsed": true
   },
   "outputs": [],
   "source": [
    "train_cats(final)"
   ]
  },
  {
   "cell_type": "code",
   "execution_count": 5,
   "metadata": {
    "collapsed": true
   },
   "outputs": [],
   "source": [
    "df, y, nas = proc_df(final, 'Churn')"
   ]
  },
  {
   "cell_type": "code",
   "execution_count": 6,
   "metadata": {},
   "outputs": [
    {
     "data": {
      "text/plain": [
       "Index(['CustomerID', 'SeviceDetails_DeviceProtection',\n",
       "       'SeviceDetails_HasPhoneService',\n",
       "       'SeviceDetails_InternetServiceCategory', 'SeviceDetails_MultipleLines',\n",
       "       'SeviceDetails_OnlineBackup', 'SeviceDetails_OnlineSecurity',\n",
       "       'SeviceDetails_StreamingMovies', 'SeviceDetails_StreamingTelevision',\n",
       "       'SeviceDetails_TechnicalSupport', 'Country', 'State', 'Retired',\n",
       "       'HasPartner', 'HasDependents', 'Education', 'Gender', 'Churn'],\n",
       "      dtype='object')"
      ]
     },
     "execution_count": 6,
     "metadata": {},
     "output_type": "execute_result"
    }
   ],
   "source": [
    "final.columns"
   ]
  },
  {
   "cell_type": "code",
   "execution_count": 7,
   "metadata": {},
   "outputs": [
    {
     "data": {
      "text/plain": [
       "0.97791619479048697"
      ]
     },
     "execution_count": 7,
     "metadata": {},
     "output_type": "execute_result"
    }
   ],
   "source": [
    "m =  RandomForestClassifier(n_jobs=-1)\n",
    "m.fit(df, y)\n",
    "m.score(df,y)"
   ]
  },
  {
   "cell_type": "code",
   "execution_count": 8,
   "metadata": {},
   "outputs": [
    {
     "data": {
      "text/plain": [
       "((4298, 17), (4298,), (1000, 17))"
      ]
     },
     "execution_count": 8,
     "metadata": {},
     "output_type": "execute_result"
    }
   ],
   "source": [
    "def split_vals(a,n): return a[:n].copy(), a[n:].copy()\n",
    "\n",
    "n_valid = 1000  # same as Kaggle's test set size\n",
    "n_trn = len(df)-n_valid\n",
    "raw_train, raw_valid = split_vals(final, n_trn)\n",
    "X_train, X_valid = split_vals(df, n_trn)\n",
    "y_train, y_valid = split_vals(y, n_trn)\n",
    "\n",
    "X_train.shape, y_train.shape, X_valid.shape"
   ]
  },
  {
   "cell_type": "code",
   "execution_count": 9,
   "metadata": {
    "collapsed": true
   },
   "outputs": [],
   "source": [
    "def rmse(x,y): return math.sqrt(((x-y)**2).mean())\n",
    "\n",
    "def print_score(m):\n",
    "    res = [rmse(m.predict(X_train), y_train), rmse(m.predict(X_valid), y_valid),\n",
    "                m.score(X_train, y_train), m.score(X_valid, y_valid)]\n",
    "    if hasattr(m, 'oob_score_'): res.append(m.oob_score_)\n",
    "    print(res)"
   ]
  },
  {
   "cell_type": "code",
   "execution_count": 10,
   "metadata": {},
   "outputs": [
    {
     "name": "stdout",
     "output_type": "stream",
     "text": [
      "[0.32285372490850467, 0.4571651780264984, 0.89576547231270354, 0.79100000000000004]\n"
     ]
    }
   ],
   "source": [
    "m = RandomForestClassifier(n_estimators=80, min_samples_leaf=3, max_features=0.5,  n_jobs=-1)\n",
    "m.fit(X_train, y_train)\n",
    "print_score(m)"
   ]
  },
  {
   "cell_type": "markdown",
   "metadata": {
    "collapsed": true
   },
   "source": [
    "# Conclusion\n",
    "\n",
    "Using basic settings, with an 79% confidence we can predict whether or not a customer will leave. \n"
   ]
  },
  {
   "cell_type": "code",
   "execution_count": 13,
   "metadata": {},
   "outputs": [],
   "source": []
  },
  {
   "cell_type": "code",
   "execution_count": null,
   "metadata": {
    "collapsed": true
   },
   "outputs": [],
   "source": []
  }
 ],
 "metadata": {
  "kernelspec": {
   "display_name": "Python 3",
   "language": "python",
   "name": "python3"
  },
  "language_info": {
   "codemirror_mode": {
    "name": "ipython",
    "version": 3
   },
   "file_extension": ".py",
   "mimetype": "text/x-python",
   "name": "python",
   "nbconvert_exporter": "python",
   "pygments_lexer": "ipython3",
   "version": "3.6.3"
  }
 },
 "nbformat": 4,
 "nbformat_minor": 2
}
