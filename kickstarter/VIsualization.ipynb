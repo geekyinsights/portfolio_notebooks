{
 "cells": [
  {
   "cell_type": "code",
   "execution_count": 4,
   "metadata": {
    "collapsed": true
   },
   "outputs": [],
   "source": [
    "from IPython.core.display import display, HTML\n",
    "from string import Template\n",
    "import pandas as pd\n",
    "import numpy as np\n",
    "import json, random\n",
    "\n",
    "csv  = 'ks-projects-201801.csv'\n",
    "data = pd.read_csv(csv,index_col = 7,parse_dates=[5, 7])\n",
    "data['usd_pledged'] = data['usd pledged']\n",
    "data = data.drop('usd pledged', axis=1)\n",
    "\n"
   ]
  },
  {
   "cell_type": "code",
   "execution_count": 44,
   "metadata": {},
   "outputs": [
    {
     "data": {
      "text/html": [
       "<script src=\"./d3.min.js\"></script>"
      ],
      "text/plain": [
       "<IPython.core.display.HTML object>"
      ]
     },
     "execution_count": 44,
     "metadata": {},
     "output_type": "execute_result"
    }
   ],
   "source": [
    "\n",
    "# Get the D3 host locally. \n",
    "HTML('<script src=\"./d3.min.js\"></script>')"
   ]
  },
  {
   "cell_type": "code",
   "execution_count": 45,
   "metadata": {},
   "outputs": [
    {
     "data": {
      "text/plain": [
       "'# get the data from the link and parse it to convert it into a datafram-it\\'s in tsv format\\nfilename = \\'https://gist.githubusercontent.com/mbostock/3887118/raw/2e68ffbeb23fe4dadd9b0f6bca62e9def6ee9e17/data.tsv\\'\\niris = pd.read_csv(filename,sep=\"\\t\")\\niris.head()'"
      ]
     },
     "execution_count": 45,
     "metadata": {},
     "output_type": "execute_result"
    }
   ],
   "source": [
    "'''# get the data from the link and parse it to convert it into a datafram-it's in tsv format\n",
    "filename = 'https://gist.githubusercontent.com/mbostock/3887118/raw/2e68ffbeb23fe4dadd9b0f6bca62e9def6ee9e17/data.tsv'\n",
    "iris = pd.read_csv(filename,sep=\"\\t\")\n",
    "iris.head()'''"
   ]
  },
  {
   "cell_type": "code",
   "execution_count": 52,
   "metadata": {
    "collapsed": true
   },
   "outputs": [],
   "source": [
    "\n",
    "#HTML templet\n",
    "html_template = Template('''\n",
    "<style> $css_text </style>\n",
    "<div id=\"graph-div\"></div>\n",
    "<script> $js_text </script>\n",
    "''')"
   ]
  },
  {
   "cell_type": "code",
   "execution_count": 47,
   "metadata": {
    "collapsed": true
   },
   "outputs": [],
   "source": [
    "# Css templet\n",
    "css_text = '''\n",
    "\n",
    ".bar {\n",
    "  fill: steelblue;\n",
    "}\n",
    "\n",
    ".bar:hover {\n",
    "  fill: brown;\n",
    "}\n",
    "\n",
    ".axis {\n",
    "  font: 10px sans-serif;\n",
    "}\n",
    "\n",
    ".axis path,\n",
    ".axis line {\n",
    "  fill: none;\n",
    "  stroke: #000;\n",
    "  shape-rendering: crispEdges;\n",
    "}\n",
    "\n",
    ".x.axis path {\n",
    "  display: none;\n",
    "}\n",
    "\n",
    "'''"
   ]
  },
  {
   "cell_type": "code",
   "execution_count": null,
   "metadata": {
    "collapsed": true
   },
   "outputs": [],
   "source": [
    "js_text_template = Template('''\n",
    "    dataset = [];\n",
    "    for( var i = 1; i< seventeen_dict.length; i++)\n",
    "        dataset[i - 1] = {\n",
    "        \n",
    "        }\n",
    "\n",
    "\n",
    "\n",
    "''')"
   ]
  },
  {
   "cell_type": "code",
   "execution_count": 48,
   "metadata": {
    "collapsed": true
   },
   "outputs": [],
   "source": [
    "#Java script templet\n",
    "js_text_template = Template('''\n",
    "\n",
    "var margin = {top: 20, right: 20, bottom: 30, left: 40},\n",
    "    width = 500 - margin.left - margin.right,\n",
    "    height = 300 - margin.top - margin.bottom;\n",
    "\n",
    "var x = d3.scale.ordinal()\n",
    "    .rangeRoundBands([0, width], .1);\n",
    "\n",
    "var y = d3.scale.linear()\n",
    "    .range([height, 0]);\n",
    "\n",
    "var xAxis = d3.svg.axis()\n",
    "    .scale(x)\n",
    "    .orient(\"bottom\");\n",
    "\n",
    "var yAxis = d3.svg.axis()\n",
    "    .scale(y)\n",
    "    .orient(\"left\");\n",
    "\n",
    "var svg = d3.select(\"#graph-div\").append(\"svg\")\n",
    "    .attr(\"width\", width + margin.left + margin.right)\n",
    "    .attr(\"height\", height + margin.top + margin.bottom)\n",
    "  .append(\"g\")\n",
    "    .attr(\"transform\", \"translate(\" + margin.left + \",\" + margin.top + \")\");\n",
    "\n",
    "var data = $data ;\n",
    "\n",
    "  x.domain(data.map(function(d) { return d.letter; }));\n",
    "  y.domain([0, d3.max(data, function(d) { return d.y; })]);\n",
    "\n",
    "  svg.append(\"g\")\n",
    "      .attr(\"class\", \"x axis\")\n",
    "      .attr(\"transform\", \"translate(0,\" + height + \")\")\n",
    "      .call(xAxis);\n",
    "\n",
    "  svg.append(\"g\")\n",
    "      .attr(\"class\", \"y axis\")\n",
    "      .call(yAxis);\n",
    "\n",
    "  svg.selectAll(\".bar\")\n",
    "      .data(data)\n",
    "    .enter().append(\"rect\")\n",
    "      .attr(\"class\", \"bar\")\n",
    "      .attr(\"x\", function(d) { return x(d.letter); })\n",
    "      .attr(\"width\", x.rangeBand())\n",
    "      .attr(\"y\", function(d) { return y(d.y); })\n",
    "      .attr(\"height\", function(d) { return height - y(d.y); });\n",
    "\n",
    "''')"
   ]
  },
  {
   "cell_type": "code",
   "execution_count": 49,
   "metadata": {
    "collapsed": true
   },
   "outputs": [],
   "source": [
    "js_text_template_2 = Template('''\n",
    "\n",
    "var bars = svg.selectAll(\".bar\").data($data);\n",
    "  \n",
    "bars\n",
    "  .transition()\n",
    "    .attr(\"y\", function(d) { return y(d.y); })\n",
    "    .attr(\"height\", function(d) { return height - y(d.y); });\n",
    "\n",
    "''')"
   ]
  },
  {
   "cell_type": "code",
   "execution_count": 50,
   "metadata": {},
   "outputs": [
    {
     "data": {
      "text/html": [
       "<div>\n",
       "<style>\n",
       "    .dataframe thead tr:only-child th {\n",
       "        text-align: right;\n",
       "    }\n",
       "\n",
       "    .dataframe thead th {\n",
       "        text-align: left;\n",
       "    }\n",
       "\n",
       "    .dataframe tbody tr th {\n",
       "        vertical-align: top;\n",
       "    }\n",
       "</style>\n",
       "<table border=\"1\" class=\"dataframe\">\n",
       "  <thead>\n",
       "    <tr style=\"text-align: right;\">\n",
       "      <th></th>\n",
       "      <th>letter</th>\n",
       "      <th>y</th>\n",
       "    </tr>\n",
       "  </thead>\n",
       "  <tbody>\n",
       "    <tr>\n",
       "      <th>0</th>\n",
       "      <td>A</td>\n",
       "      <td>1</td>\n",
       "    </tr>\n",
       "    <tr>\n",
       "      <th>1</th>\n",
       "      <td>B</td>\n",
       "      <td>1</td>\n",
       "    </tr>\n",
       "    <tr>\n",
       "      <th>2</th>\n",
       "      <td>C</td>\n",
       "      <td>1</td>\n",
       "    </tr>\n",
       "    <tr>\n",
       "      <th>3</th>\n",
       "      <td>D</td>\n",
       "      <td>1</td>\n",
       "    </tr>\n",
       "  </tbody>\n",
       "</table>\n",
       "</div>"
      ],
      "text/plain": [
       "  letter  y\n",
       "0      A  1\n",
       "1      B  1\n",
       "2      C  1\n",
       "3      D  1"
      ]
     },
     "execution_count": 50,
     "metadata": {},
     "output_type": "execute_result"
    }
   ],
   "source": [
    "data = pd.DataFrame({'letter': ['A','B','C','D'], 'y': [1,1,1,1]})\n",
    "data.head()"
   ]
  },
  {
   "cell_type": "code",
   "execution_count": 51,
   "metadata": {
    "collapsed": true
   },
   "outputs": [],
   "source": [
    "seventeen = data.loc['2017-01-01':'2017-12-01']\n",
    "seventeen_dicts = seventeen.to_dict(orient= 'records')"
   ]
  },
  {
   "cell_type": "code",
   "execution_count": 53,
   "metadata": {},
   "outputs": [
    {
     "data": {
      "text/html": [
       "<script>\n",
       "\n",
       "var bars = svg.selectAll(\".bar\").data([{\"letter\": \"A\", \"y\": 0.449770086269244}, {\"letter\": \"B\", \"y\": 0.050254231989967146}, {\"letter\": \"C\", \"y\": 0.8808869673967437}, {\"letter\": \"D\", \"y\": 0.9312587496047016}]);\n",
       "  \n",
       "bars\n",
       "  .transition()\n",
       "    .attr(\"y\", function(d) { return y(d.y); })\n",
       "    .attr(\"height\", function(d) { return height - y(d.y); });\n",
       "\n",
       "</script>"
      ],
      "text/plain": [
       "<IPython.core.display.HTML object>"
      ]
     },
     "execution_count": 53,
     "metadata": {},
     "output_type": "execute_result"
    }
   ],
   "source": [
    "data['y'] = [random.uniform(0,1) for d in data['y']]\n",
    "js_text = js_text_template_2.substitute({'data': json.dumps(data.to_dict(orient='records'))})\n",
    "HTML('<script>' + js_text + '</script>')"
   ]
  },
  {
   "cell_type": "code",
   "execution_count": 54,
   "metadata": {},
   "outputs": [
    {
     "data": {
      "text/html": [
       "\n",
       "<style> \n",
       "\n",
       ".bar {\n",
       "  fill: steelblue;\n",
       "}\n",
       "\n",
       ".bar:hover {\n",
       "  fill: brown;\n",
       "}\n",
       "\n",
       ".axis {\n",
       "  font: 10px sans-serif;\n",
       "}\n",
       "\n",
       ".axis path,\n",
       ".axis line {\n",
       "  fill: none;\n",
       "  stroke: #000;\n",
       "  shape-rendering: crispEdges;\n",
       "}\n",
       "\n",
       ".x.axis path {\n",
       "  display: none;\n",
       "}\n",
       "\n",
       " </style>\n",
       "<div id=\"graph-div\"></div>\n",
       "<script> \n",
       "\n",
       "var margin = {top: 20, right: 20, bottom: 30, left: 40},\n",
       "    width = 500 - margin.left - margin.right,\n",
       "    height = 300 - margin.top - margin.bottom;\n",
       "\n",
       "var x = d3.scale.ordinal()\n",
       "    .rangeRoundBands([0, width], .1);\n",
       "\n",
       "var y = d3.scale.linear()\n",
       "    .range([height, 0]);\n",
       "\n",
       "var xAxis = d3.svg.axis()\n",
       "    .scale(x)\n",
       "    .orient(\"bottom\");\n",
       "\n",
       "var yAxis = d3.svg.axis()\n",
       "    .scale(y)\n",
       "    .orient(\"left\");\n",
       "\n",
       "var svg = d3.select(\"#graph-div\").append(\"svg\")\n",
       "    .attr(\"width\", width + margin.left + margin.right)\n",
       "    .attr(\"height\", height + margin.top + margin.bottom)\n",
       "  .append(\"g\")\n",
       "    .attr(\"transform\", \"translate(\" + margin.left + \",\" + margin.top + \")\");\n",
       "\n",
       "var data = [{\"letter\": \"A\", \"y\": 0.449770086269244}, {\"letter\": \"B\", \"y\": 0.050254231989967146}, {\"letter\": \"C\", \"y\": 0.8808869673967437}, {\"letter\": \"D\", \"y\": 0.9312587496047016}] ;\n",
       "\n",
       "  x.domain(data.map(function(d) { return d.letter; }));\n",
       "  y.domain([0, d3.max(data, function(d) { return d.y; })]);\n",
       "\n",
       "  svg.append(\"g\")\n",
       "      .attr(\"class\", \"x axis\")\n",
       "      .attr(\"transform\", \"translate(0,\" + height + \")\")\n",
       "      .call(xAxis);\n",
       "\n",
       "  svg.append(\"g\")\n",
       "      .attr(\"class\", \"y axis\")\n",
       "      .call(yAxis);\n",
       "\n",
       "  svg.selectAll(\".bar\")\n",
       "      .data(data)\n",
       "    .enter().append(\"rect\")\n",
       "      .attr(\"class\", \"bar\")\n",
       "      .attr(\"x\", function(d) { return x(d.letter); })\n",
       "      .attr(\"width\", x.rangeBand())\n",
       "      .attr(\"y\", function(d) { return y(d.y); })\n",
       "      .attr(\"height\", function(d) { return height - y(d.y); });\n",
       "\n",
       " </script>\n"
      ],
      "text/plain": [
       "<IPython.core.display.HTML object>"
      ]
     },
     "execution_count": 54,
     "metadata": {},
     "output_type": "execute_result"
    }
   ],
   "source": [
    "js_text = js_text_template.substitute({'data': json.dumps(data.to_dict(orient='records'))})\n",
    "HTML(html_template.substitute({'css_text': css_text, 'js_text': js_text}))"
   ]
  },
  {
   "cell_type": "code",
   "execution_count": null,
   "metadata": {
    "collapsed": true
   },
   "outputs": [],
   "source": []
  }
 ],
 "metadata": {
  "kernelspec": {
   "display_name": "Python 3",
   "language": "python",
   "name": "python3"
  },
  "language_info": {
   "codemirror_mode": {
    "name": "ipython",
    "version": 3
   },
   "file_extension": ".py",
   "mimetype": "text/x-python",
   "name": "python",
   "nbconvert_exporter": "python",
   "pygments_lexer": "ipython3",
   "version": "3.6.3"
  }
 },
 "nbformat": 4,
 "nbformat_minor": 2
}
